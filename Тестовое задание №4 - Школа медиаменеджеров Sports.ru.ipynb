{
 "cells": [
  {
   "cell_type": "markdown",
   "metadata": {},
   "source": [
    "# Задание №4\n",
    "\n",
    "Для ответа на вопрос, сколько Sports.ru заработал за месяц в каждом из приложений, необходимо посчитать выручку каждого приложения.\n",
    "\n",
    "Автор - **Дасаев Гарри**"
   ]
  },
  {
   "cell_type": "markdown",
   "metadata": {},
   "source": [
    "Загружаем необходимые модули."
   ]
  },
  {
   "cell_type": "code",
   "execution_count": null,
   "metadata": {},
   "outputs": [],
   "source": [
    "import numpy as np # для математических операций с векторами и матрицами\n",
    "import pandas as pd # для работы с датафреймами"
   ]
  },
  {
   "cell_type": "markdown",
   "metadata": {},
   "source": [
    "Загружаем необходимый исходный файл с данными."
   ]
  },
  {
   "cell_type": "code",
   "execution_count": null,
   "metadata": {},
   "outputs": [],
   "source": [
    "df_apps = pd.read_excel(\"test 2.xlsx\", sep = ',')"
   ]
  },
  {
   "cell_type": "markdown",
   "metadata": {},
   "source": [
    "Подсмотрим на то, правильно ли загрузился датафрейм."
   ]
  },
  {
   "cell_type": "code",
   "execution_count": 128,
   "metadata": {},
   "outputs": [
    {
     "data": {
      "text/html": [
       "<div>\n",
       "<style scoped>\n",
       "    .dataframe tbody tr th:only-of-type {\n",
       "        vertical-align: middle;\n",
       "    }\n",
       "\n",
       "    .dataframe tbody tr th {\n",
       "        vertical-align: top;\n",
       "    }\n",
       "\n",
       "    .dataframe thead th {\n",
       "        text-align: right;\n",
       "    }\n",
       "</style>\n",
       "<table border=\"1\" class=\"dataframe\">\n",
       "  <thead>\n",
       "    <tr style=\"text-align: right;\">\n",
       "      <th></th>\n",
       "      <th>Date</th>\n",
       "      <th>App ID</th>\n",
       "      <th>App Name</th>\n",
       "      <th>Platform</th>\n",
       "      <th>Display Format</th>\n",
       "      <th>Requests</th>\n",
       "      <th>Filled Requests</th>\n",
       "      <th>Fill Rate</th>\n",
       "      <th>Impressions</th>\n",
       "      <th>Show Rate</th>\n",
       "      <th>Clicks</th>\n",
       "      <th>CTR</th>\n",
       "      <th>Average CPM</th>\n",
       "      <th>Revenue</th>\n",
       "    </tr>\n",
       "  </thead>\n",
       "  <tbody>\n",
       "    <tr>\n",
       "      <th>0</th>\n",
       "      <td>2019-06-30 00:00:00</td>\n",
       "      <td>496836757556346</td>\n",
       "      <td>Мордовия</td>\n",
       "      <td>android</td>\n",
       "      <td>interstitial</td>\n",
       "      <td>61601</td>\n",
       "      <td>52262</td>\n",
       "      <td>0.747395</td>\n",
       "      <td>44170</td>\n",
       "      <td>0.745356</td>\n",
       "      <td>625</td>\n",
       "      <td>0.014147</td>\n",
       "      <td>1.913332</td>\n",
       "      <td>34.532731</td>\n",
       "    </tr>\n",
       "    <tr>\n",
       "      <th>1</th>\n",
       "      <td>2019-06-15 00:00:00</td>\n",
       "      <td>496836757556346</td>\n",
       "      <td>Мордовия</td>\n",
       "      <td>android</td>\n",
       "      <td>interstitial</td>\n",
       "      <td>32622</td>\n",
       "      <td>61133</td>\n",
       "      <td>0.742403</td>\n",
       "      <td>51173</td>\n",
       "      <td>0.736303</td>\n",
       "      <td>625</td>\n",
       "      <td>0.012210</td>\n",
       "      <td>1.600131</td>\n",
       "      <td>31.907964</td>\n",
       "    </tr>\n",
       "    <tr>\n",
       "      <th>2</th>\n",
       "      <td>2019-06-18 00:00:00</td>\n",
       "      <td>496836757556346</td>\n",
       "      <td>Мордовия</td>\n",
       "      <td>android</td>\n",
       "      <td>native</td>\n",
       "      <td>536473</td>\n",
       "      <td>476941</td>\n",
       "      <td>0.903643</td>\n",
       "      <td>276279</td>\n",
       "      <td>0.573934</td>\n",
       "      <td>1436</td>\n",
       "      <td>0.005156</td>\n",
       "      <td>0.356970</td>\n",
       "      <td>102.199454</td>\n",
       "    </tr>\n",
       "    <tr>\n",
       "      <th>3</th>\n",
       "      <td>2019-06-08 00:00:00</td>\n",
       "      <td>228272480695675</td>\n",
       "      <td>Удмуртия</td>\n",
       "      <td>ios</td>\n",
       "      <td>interstitial</td>\n",
       "      <td>50791</td>\n",
       "      <td>41796</td>\n",
       "      <td>0.723250</td>\n",
       "      <td>37150</td>\n",
       "      <td>0.910577</td>\n",
       "      <td>135</td>\n",
       "      <td>0.004573</td>\n",
       "      <td>2.023160</td>\n",
       "      <td>77.336152</td>\n",
       "    </tr>\n",
       "    <tr>\n",
       "      <th>4</th>\n",
       "      <td>2019-06-23 00:00:00</td>\n",
       "      <td>228272480695675</td>\n",
       "      <td>Удмуртия</td>\n",
       "      <td>ios</td>\n",
       "      <td>interstitial</td>\n",
       "      <td>19496</td>\n",
       "      <td>16366</td>\n",
       "      <td>0.739454</td>\n",
       "      <td>15022</td>\n",
       "      <td>0.913738</td>\n",
       "      <td>71</td>\n",
       "      <td>0.005392</td>\n",
       "      <td>2.533317</td>\n",
       "      <td>33.115591</td>\n",
       "    </tr>\n",
       "    <tr>\n",
       "      <th>5</th>\n",
       "      <td>2019-06-24 00:00:00</td>\n",
       "      <td>496836757556346</td>\n",
       "      <td>Мордовия</td>\n",
       "      <td>ios</td>\n",
       "      <td>interstitial</td>\n",
       "      <td>9369</td>\n",
       "      <td>3960</td>\n",
       "      <td>0.714722</td>\n",
       "      <td>6747</td>\n",
       "      <td>0.760302</td>\n",
       "      <td>39</td>\n",
       "      <td>0.005695</td>\n",
       "      <td>3.696697</td>\n",
       "      <td>25.314991</td>\n",
       "    </tr>\n",
       "    <tr>\n",
       "      <th>6</th>\n",
       "      <td>2019-06-04 00:00:00</td>\n",
       "      <td>496836757556346</td>\n",
       "      <td>Мордовия</td>\n",
       "      <td>ios</td>\n",
       "      <td>interstitial</td>\n",
       "      <td>15209</td>\n",
       "      <td>12513</td>\n",
       "      <td>0.722337</td>\n",
       "      <td>10753</td>\n",
       "      <td>0.763654</td>\n",
       "      <td>52</td>\n",
       "      <td>0.004380</td>\n",
       "      <td>3.942909</td>\n",
       "      <td>42.303166</td>\n",
       "    </tr>\n",
       "  </tbody>\n",
       "</table>\n",
       "</div>"
      ],
      "text/plain": [
       "                  Date           App ID  App Name Platform Display Format  \\\n",
       "0  2019-06-30 00:00:00  496836757556346  Мордовия  android   interstitial   \n",
       "1  2019-06-15 00:00:00  496836757556346  Мордовия  android   interstitial   \n",
       "2  2019-06-18 00:00:00  496836757556346  Мордовия  android         native   \n",
       "3  2019-06-08 00:00:00  228272480695675  Удмуртия      ios   interstitial   \n",
       "4  2019-06-23 00:00:00  228272480695675  Удмуртия      ios   interstitial   \n",
       "5  2019-06-24 00:00:00  496836757556346  Мордовия      ios   interstitial   \n",
       "6  2019-06-04 00:00:00  496836757556346  Мордовия      ios   interstitial   \n",
       "\n",
       "   Requests  Filled Requests  Fill Rate  Impressions  Show Rate  Clicks  \\\n",
       "0     61601            52262   0.747395        44170   0.745356     625   \n",
       "1     32622            61133   0.742403        51173   0.736303     625   \n",
       "2    536473           476941   0.903643       276279   0.573934    1436   \n",
       "3     50791            41796   0.723250        37150   0.910577     135   \n",
       "4     19496            16366   0.739454        15022   0.913738      71   \n",
       "5      9369             3960   0.714722         6747   0.760302      39   \n",
       "6     15209            12513   0.722337        10753   0.763654      52   \n",
       "\n",
       "        CTR  Average CPM     Revenue  \n",
       "0  0.014147     1.913332   34.532731  \n",
       "1  0.012210     1.600131   31.907964  \n",
       "2  0.005156     0.356970  102.199454  \n",
       "3  0.004573     2.023160   77.336152  \n",
       "4  0.005392     2.533317   33.115591  \n",
       "5  0.005695     3.696697   25.314991  \n",
       "6  0.004380     3.942909   42.303166  "
      ]
     },
     "execution_count": 128,
     "metadata": {},
     "output_type": "execute_result"
    }
   ],
   "source": [
    "df_apps.head(7)"
   ]
  },
  {
   "cell_type": "markdown",
   "metadata": {},
   "source": [
    "Удостоверимся правильно ли pandas прочитал переменные."
   ]
  },
  {
   "cell_type": "code",
   "execution_count": 118,
   "metadata": {
    "scrolled": true
   },
   "outputs": [
    {
     "name": "stdout",
     "output_type": "stream",
     "text": [
      "<class 'pandas.core.frame.DataFrame'>\n",
      "RangeIndex: 2412 entries, 0 to 2411\n",
      "Data columns (total 14 columns):\n",
      "Date               2412 non-null object\n",
      "App ID             2412 non-null int64\n",
      "App Name           2412 non-null object\n",
      "Platform           2412 non-null object\n",
      "Display Format     2412 non-null object\n",
      "Requests           2412 non-null int64\n",
      "Filled Requests    2412 non-null int64\n",
      "Fill Rate          2412 non-null float64\n",
      "Impressions        2412 non-null int64\n",
      "Show Rate          2412 non-null float64\n",
      "Clicks             2412 non-null int64\n",
      "CTR                2412 non-null float64\n",
      "Average CPM        2412 non-null float64\n",
      "Revenue            2412 non-null float64\n",
      "dtypes: float64(5), int64(5), object(4)\n",
      "memory usage: 263.9+ KB\n"
     ]
    }
   ],
   "source": [
    "df_apps.info()"
   ]
  },
  {
   "cell_type": "markdown",
   "metadata": {},
   "source": [
    "Проверим сколько уникальных наблюдений представлено в столбце \"Дата\". Нам нужны данные только за 1 месяц."
   ]
  },
  {
   "cell_type": "code",
   "execution_count": 119,
   "metadata": {},
   "outputs": [
    {
     "data": {
      "text/plain": [
       "31"
      ]
     },
     "execution_count": 119,
     "metadata": {},
     "output_type": "execute_result"
    }
   ],
   "source": [
    "df_apps['Date'].nunique()"
   ]
  },
  {
   "cell_type": "code",
   "execution_count": 120,
   "metadata": {},
   "outputs": [
    {
     "data": {
      "text/plain": [
       "array([datetime.datetime(2019, 6, 30, 0, 0),\n",
       "       datetime.datetime(2019, 6, 15, 0, 0),\n",
       "       datetime.datetime(2019, 6, 18, 0, 0),\n",
       "       datetime.datetime(2019, 6, 8, 0, 0),\n",
       "       datetime.datetime(2019, 6, 23, 0, 0),\n",
       "       datetime.datetime(2019, 6, 24, 0, 0),\n",
       "       datetime.datetime(2019, 6, 4, 0, 0),\n",
       "       datetime.datetime(2019, 6, 2, 0, 0),\n",
       "       datetime.datetime(2019, 6, 17, 0, 0),\n",
       "       datetime.datetime(2019, 6, 16, 0, 0),\n",
       "       datetime.datetime(2019, 6, 6, 0, 0),\n",
       "       datetime.datetime(2019, 6, 10, 0, 0),\n",
       "       datetime.datetime(2019, 6, 5, 0, 0),\n",
       "       datetime.datetime(2019, 6, 27, 0, 0),\n",
       "       datetime.datetime(2019, 6, 20, 0, 0),\n",
       "       datetime.datetime(2019, 6, 13, 0, 0),\n",
       "       datetime.datetime(2019, 6, 25, 0, 0),\n",
       "       datetime.datetime(2019, 6, 29, 0, 0), '2019-06-31',\n",
       "       datetime.datetime(2019, 6, 26, 0, 0),\n",
       "       datetime.datetime(2019, 6, 12, 0, 0),\n",
       "       datetime.datetime(2019, 6, 14, 0, 0),\n",
       "       datetime.datetime(2019, 6, 9, 0, 0),\n",
       "       datetime.datetime(2019, 6, 3, 0, 0),\n",
       "       datetime.datetime(2019, 6, 22, 0, 0),\n",
       "       datetime.datetime(2019, 6, 19, 0, 0),\n",
       "       datetime.datetime(2019, 6, 11, 0, 0),\n",
       "       datetime.datetime(2019, 6, 21, 0, 0),\n",
       "       datetime.datetime(2019, 6, 28, 0, 0),\n",
       "       datetime.datetime(2019, 6, 7, 0, 0),\n",
       "       datetime.datetime(2019, 6, 1, 0, 0)], dtype=object)"
      ]
     },
     "execution_count": 120,
     "metadata": {},
     "output_type": "execute_result"
    }
   ],
   "source": [
    "df_apps['Date'].unique()"
   ]
  },
  {
   "cell_type": "markdown",
   "metadata": {},
   "source": [
    "В столбце \"Дата\" присутствует лишнее значение: \"2019-06-31\". В июне 30 дней, поэтому удаляем \"нереальное\" значение даты."
   ]
  },
  {
   "cell_type": "code",
   "execution_count": 121,
   "metadata": {},
   "outputs": [],
   "source": [
    "df_apps_clean = df_apps.loc[df_apps.Date != \"2019-06-31\"].reset_index()"
   ]
  },
  {
   "cell_type": "markdown",
   "metadata": {},
   "source": [
    "Теперь проверим число уникальных значений для даты в новом датафрейме:"
   ]
  },
  {
   "cell_type": "code",
   "execution_count": 122,
   "metadata": {},
   "outputs": [
    {
     "data": {
      "text/plain": [
       "30"
      ]
     },
     "execution_count": 122,
     "metadata": {},
     "output_type": "execute_result"
    }
   ],
   "source": [
    "df_apps_clean['Date'].nunique()"
   ]
  },
  {
   "cell_type": "markdown",
   "metadata": {},
   "source": [
    "30 дней в июне. \n",
    "Теперь даты совпадают с реальностью, и можно переходить к подсчету выручки каждого приложения."
   ]
  },
  {
   "cell_type": "code",
   "execution_count": 123,
   "metadata": {},
   "outputs": [],
   "source": [
    "apps_revenues = (df_apps_clean.groupby(['App Name'])['Revenue']\n",
    "                 .agg(np.sum)).reset_index()"
   ]
  },
  {
   "cell_type": "markdown",
   "metadata": {},
   "source": [
    "Давайте посмотрим на датафрейм со значением выручки для каждого из приложений."
   ]
  },
  {
   "cell_type": "code",
   "execution_count": 124,
   "metadata": {},
   "outputs": [
    {
     "data": {
      "text/html": [
       "<div>\n",
       "<style scoped>\n",
       "    .dataframe tbody tr th:only-of-type {\n",
       "        vertical-align: middle;\n",
       "    }\n",
       "\n",
       "    .dataframe tbody tr th {\n",
       "        vertical-align: top;\n",
       "    }\n",
       "\n",
       "    .dataframe thead th {\n",
       "        text-align: right;\n",
       "    }\n",
       "</style>\n",
       "<table border=\"1\" class=\"dataframe\">\n",
       "  <thead>\n",
       "    <tr style=\"text-align: right;\">\n",
       "      <th></th>\n",
       "      <th>App Name</th>\n",
       "      <th>Revenue</th>\n",
       "    </tr>\n",
       "  </thead>\n",
       "  <tbody>\n",
       "    <tr>\n",
       "      <th>0</th>\n",
       "      <td>Адыгея</td>\n",
       "      <td>966.504660</td>\n",
       "    </tr>\n",
       "    <tr>\n",
       "      <th>1</th>\n",
       "      <td>Башкортостан</td>\n",
       "      <td>2305.945366</td>\n",
       "    </tr>\n",
       "    <tr>\n",
       "      <th>2</th>\n",
       "      <td>Бурятия</td>\n",
       "      <td>2132.167986</td>\n",
       "    </tr>\n",
       "    <tr>\n",
       "      <th>3</th>\n",
       "      <td>Дагестан</td>\n",
       "      <td>1161.014108</td>\n",
       "    </tr>\n",
       "    <tr>\n",
       "      <th>4</th>\n",
       "      <td>Дагестан 2018</td>\n",
       "      <td>948.539051</td>\n",
       "    </tr>\n",
       "    <tr>\n",
       "      <th>5</th>\n",
       "      <td>Ингушетия</td>\n",
       "      <td>2018.814922</td>\n",
       "    </tr>\n",
       "    <tr>\n",
       "      <th>6</th>\n",
       "      <td>Калмыкия</td>\n",
       "      <td>171.029409</td>\n",
       "    </tr>\n",
       "    <tr>\n",
       "      <th>7</th>\n",
       "      <td>Карелия</td>\n",
       "      <td>965.832531</td>\n",
       "    </tr>\n",
       "    <tr>\n",
       "      <th>8</th>\n",
       "      <td>Карелия 2018</td>\n",
       "      <td>786.818339</td>\n",
       "    </tr>\n",
       "    <tr>\n",
       "      <th>9</th>\n",
       "      <td>Коми</td>\n",
       "      <td>3.390599</td>\n",
       "    </tr>\n",
       "    <tr>\n",
       "      <th>10</th>\n",
       "      <td>Мордовия</td>\n",
       "      <td>6203.275781</td>\n",
       "    </tr>\n",
       "    <tr>\n",
       "      <th>11</th>\n",
       "      <td>Осетия</td>\n",
       "      <td>28.340555</td>\n",
       "    </tr>\n",
       "    <tr>\n",
       "      <th>12</th>\n",
       "      <td>Татарстан</td>\n",
       "      <td>2451.906956</td>\n",
       "    </tr>\n",
       "    <tr>\n",
       "      <th>13</th>\n",
       "      <td>Удмуртия</td>\n",
       "      <td>3949.864479</td>\n",
       "    </tr>\n",
       "    <tr>\n",
       "      <th>14</th>\n",
       "      <td>Хакасия</td>\n",
       "      <td>306.665014</td>\n",
       "    </tr>\n",
       "    <tr>\n",
       "      <th>15</th>\n",
       "      <td>Чувашия</td>\n",
       "      <td>24.548712</td>\n",
       "    </tr>\n",
       "  </tbody>\n",
       "</table>\n",
       "</div>"
      ],
      "text/plain": [
       "         App Name      Revenue\n",
       "0          Адыгея   966.504660\n",
       "1    Башкортостан  2305.945366\n",
       "2         Бурятия  2132.167986\n",
       "3        Дагестан  1161.014108\n",
       "4   Дагестан 2018   948.539051\n",
       "5       Ингушетия  2018.814922\n",
       "6        Калмыкия   171.029409\n",
       "7         Карелия   965.832531\n",
       "8    Карелия 2018   786.818339\n",
       "9            Коми     3.390599\n",
       "10       Мордовия  6203.275781\n",
       "11         Осетия    28.340555\n",
       "12      Татарстан  2451.906956\n",
       "13       Удмуртия  3949.864479\n",
       "14        Хакасия   306.665014\n",
       "15        Чувашия    24.548712"
      ]
     },
     "execution_count": 124,
     "metadata": {},
     "output_type": "execute_result"
    }
   ],
   "source": [
    "apps_revenues"
   ]
  },
  {
   "cell_type": "markdown",
   "metadata": {},
   "source": [
    "Отсортируем датафрейм по убыванию выручки."
   ]
  },
  {
   "cell_type": "code",
   "execution_count": 125,
   "metadata": {},
   "outputs": [
    {
     "data": {
      "text/html": [
       "<div>\n",
       "<style scoped>\n",
       "    .dataframe tbody tr th:only-of-type {\n",
       "        vertical-align: middle;\n",
       "    }\n",
       "\n",
       "    .dataframe tbody tr th {\n",
       "        vertical-align: top;\n",
       "    }\n",
       "\n",
       "    .dataframe thead th {\n",
       "        text-align: right;\n",
       "    }\n",
       "</style>\n",
       "<table border=\"1\" class=\"dataframe\">\n",
       "  <thead>\n",
       "    <tr style=\"text-align: right;\">\n",
       "      <th></th>\n",
       "      <th>App Name</th>\n",
       "      <th>Revenue</th>\n",
       "    </tr>\n",
       "  </thead>\n",
       "  <tbody>\n",
       "    <tr>\n",
       "      <th>0</th>\n",
       "      <td>Мордовия</td>\n",
       "      <td>6203.275781</td>\n",
       "    </tr>\n",
       "    <tr>\n",
       "      <th>1</th>\n",
       "      <td>Удмуртия</td>\n",
       "      <td>3949.864479</td>\n",
       "    </tr>\n",
       "    <tr>\n",
       "      <th>2</th>\n",
       "      <td>Татарстан</td>\n",
       "      <td>2451.906956</td>\n",
       "    </tr>\n",
       "    <tr>\n",
       "      <th>3</th>\n",
       "      <td>Башкортостан</td>\n",
       "      <td>2305.945366</td>\n",
       "    </tr>\n",
       "    <tr>\n",
       "      <th>4</th>\n",
       "      <td>Бурятия</td>\n",
       "      <td>2132.167986</td>\n",
       "    </tr>\n",
       "    <tr>\n",
       "      <th>5</th>\n",
       "      <td>Ингушетия</td>\n",
       "      <td>2018.814922</td>\n",
       "    </tr>\n",
       "    <tr>\n",
       "      <th>6</th>\n",
       "      <td>Дагестан</td>\n",
       "      <td>1161.014108</td>\n",
       "    </tr>\n",
       "    <tr>\n",
       "      <th>7</th>\n",
       "      <td>Адыгея</td>\n",
       "      <td>966.504660</td>\n",
       "    </tr>\n",
       "    <tr>\n",
       "      <th>8</th>\n",
       "      <td>Карелия</td>\n",
       "      <td>965.832531</td>\n",
       "    </tr>\n",
       "    <tr>\n",
       "      <th>9</th>\n",
       "      <td>Дагестан 2018</td>\n",
       "      <td>948.539051</td>\n",
       "    </tr>\n",
       "    <tr>\n",
       "      <th>10</th>\n",
       "      <td>Карелия 2018</td>\n",
       "      <td>786.818339</td>\n",
       "    </tr>\n",
       "    <tr>\n",
       "      <th>11</th>\n",
       "      <td>Хакасия</td>\n",
       "      <td>306.665014</td>\n",
       "    </tr>\n",
       "    <tr>\n",
       "      <th>12</th>\n",
       "      <td>Калмыкия</td>\n",
       "      <td>171.029409</td>\n",
       "    </tr>\n",
       "    <tr>\n",
       "      <th>13</th>\n",
       "      <td>Осетия</td>\n",
       "      <td>28.340555</td>\n",
       "    </tr>\n",
       "    <tr>\n",
       "      <th>14</th>\n",
       "      <td>Чувашия</td>\n",
       "      <td>24.548712</td>\n",
       "    </tr>\n",
       "    <tr>\n",
       "      <th>15</th>\n",
       "      <td>Коми</td>\n",
       "      <td>3.390599</td>\n",
       "    </tr>\n",
       "  </tbody>\n",
       "</table>\n",
       "</div>"
      ],
      "text/plain": [
       "         App Name      Revenue\n",
       "0        Мордовия  6203.275781\n",
       "1        Удмуртия  3949.864479\n",
       "2       Татарстан  2451.906956\n",
       "3    Башкортостан  2305.945366\n",
       "4         Бурятия  2132.167986\n",
       "5       Ингушетия  2018.814922\n",
       "6        Дагестан  1161.014108\n",
       "7          Адыгея   966.504660\n",
       "8         Карелия   965.832531\n",
       "9   Дагестан 2018   948.539051\n",
       "10   Карелия 2018   786.818339\n",
       "11        Хакасия   306.665014\n",
       "12       Калмыкия   171.029409\n",
       "13         Осетия    28.340555\n",
       "14        Чувашия    24.548712\n",
       "15           Коми     3.390599"
      ]
     },
     "execution_count": 125,
     "metadata": {},
     "output_type": "execute_result"
    }
   ],
   "source": [
    "apps_revenues.sort_values('Revenue', ascending=False).reset_index().drop(\"index\", axis=1)"
   ]
  },
  {
   "cell_type": "markdown",
   "metadata": {},
   "source": [
    "Можно выгрузить датафрейм в файл Excel формата xlsx (тот же формат, в котором был получен исходный датафрейм)."
   ]
  },
  {
   "cell_type": "code",
   "execution_count": null,
   "metadata": {},
   "outputs": [],
   "source": [
    "apps_revenues.to_excel(\"app_revenues.xlsx\", encoding = \"UTF-8\")"
   ]
  },
  {
   "cell_type": "markdown",
   "metadata": {},
   "source": [
    "### Дополнительно \n",
    "(чисто из спортивного интереса)"
   ]
  },
  {
   "cell_type": "markdown",
   "metadata": {},
   "source": [
    "Интересно визуализировать распределения выручки приложений Sports.ru"
   ]
  },
  {
   "cell_type": "code",
   "execution_count": 130,
   "metadata": {},
   "outputs": [],
   "source": [
    "import matplotlib.pyplot as plt"
   ]
  },
  {
   "cell_type": "code",
   "execution_count": 126,
   "metadata": {},
   "outputs": [
    {
     "data": {
      "image/png": "[encoded data removed]",
      "text/plain": [
       "<matplotlib.figure.Figure at 0x1d49e354fd0>"
      ]
     },
     "metadata": {},
     "output_type": "display_data"
    }
   ],
   "source": [
    "index = np.arange(len(apps_revenues['App Name']))\n",
    "plt.bar(index, apps_revenues['Revenue'])\n",
    "plt.xlabel('App', fontsize=10)\n",
    "plt.ylabel('Revenue', fontsize=10)\n",
    "plt.xticks(index, apps_revenues['App Name'], fontsize=14, rotation=90)\n",
    "plt.title('Sports.ru revenue by app')\n",
    "plt.show()"
   ]
  },
  {
   "cell_type": "code",
   "execution_count": 127,
   "metadata": {},
   "outputs": [
    {
     "data": {
      "image/png": "[encoded data removed]",
      "text/plain": [
       "<matplotlib.figure.Figure at 0x1d49ce7f780>"
      ]
     },
     "metadata": {},
     "output_type": "display_data"
    }
   ],
   "source": [
    "plt.pie(apps_revenues['Revenue'], labels = apps_revenues['App Name'], \n",
    "        startangle=90, autopct='%.1f%%')\n",
    "plt.title('Sports.ru Revenue by App')\n",
    "plt.show()"
   ]
  },
  {
   "cell_type": "markdown",
   "metadata": {},
   "source": [
    "Интересно заметить, что более 50% выручки приносят три приложения:\n",
    "1. Мордовия\n",
    "2. Удмуртия\n",
    "3. Татарстан"
   ]
  }
 ],
 "metadata": {
  "kernelspec": {
   "display_name": "Python 3",
   "language": "python",
   "name": "python3"
  },
  "language_info": {
   "codemirror_mode": {
    "name": "ipython",
    "version": 3
   },
   "file_extension": ".py",
   "mimetype": "text/x-python",
   "name": "python",
   "nbconvert_exporter": "python",
   "pygments_lexer": "ipython3",
   "version": "3.6.4"
  }
 },
 "nbformat": 4,
 "nbformat_minor": 2
}
